{
  "nbformat": 4,
  "nbformat_minor": 0,
  "metadata": {
    "colab": {
      "name": "Project_2-Group3.ipynb",
      "provenance": [],
      "toc_visible": true
    },
    "kernelspec": {
      "name": "python3",
      "display_name": "Python 3"
    },
    "language_info": {
      "name": "python"
    }
  },
  "cells": [
    {
      "cell_type": "code",
      "metadata": {
        "colab": {
          "base_uri": "https://localhost:8080/"
        },
        "id": "5Y-lisqhwTXm",
        "outputId": "ad7fd86d-b660-4fa8-cdea-ef44ea43ec01"
      },
      "source": [
        "# activate Spark in our Colab notebook.\n",
        "import os\n",
        "# Find the latest version of spark 3.0  from http://www-us.apache.org/dist/spark/ and enter as the spark version\n",
        "# For example:\n",
        "spark_version = 'spark-3.0.2'\n",
        "# spark_version = 'spark-3.<enter version>'\n",
        "os.environ['SPARK_VERSION']=spark_version\n",
        "\n",
        "# Install Spark and Java\n",
        "!apt-get update\n",
        "!apt-get install openjdk-11-jdk-headless -qq > /dev/null\n",
        "!wget -q http://www-us.apache.org/dist/spark/$SPARK_VERSION/$SPARK_VERSION-bin-hadoop2.7.tgz\n",
        "!tar xf $SPARK_VERSION-bin-hadoop2.7.tgz\n",
        "!pip install -q findspark\n",
        "\n",
        "# Set Environment Variables\n",
        "os.environ[\"JAVA_HOME\"] = \"/usr/lib/jvm/java-11-openjdk-amd64\"\n",
        "os.environ[\"SPARK_HOME\"] = f\"/content/{spark_version}-bin-hadoop2.7\"\n",
        "\n",
        "# Start a SparkSession\n",
        "import findspark\n",
        "findspark.init()"
      ],
      "execution_count": 1,
      "outputs": [
        {
          "output_type": "stream",
          "text": [
            "\r0% [Working]\r            \rGet:1 http://security.ubuntu.com/ubuntu bionic-security InRelease [88.7 kB]\n",
            "\r0% [Connecting to archive.ubuntu.com] [1 InRelease 14.2 kB/88.7 kB 16%] [Connec\r                                                                               \rIgn:2 https://developer.download.nvidia.com/compute/cuda/repos/ubuntu1804/x86_64  InRelease\n",
            "Get:3 https://cloud.r-project.org/bin/linux/ubuntu bionic-cran40/ InRelease [3,626 B]\n",
            "Get:4 http://ppa.launchpad.net/c2d4u.team/c2d4u4.0+/ubuntu bionic InRelease [15.9 kB]\n",
            "Ign:5 https://developer.download.nvidia.com/compute/machine-learning/repos/ubuntu1804/x86_64  InRelease\n",
            "Hit:6 https://developer.download.nvidia.com/compute/cuda/repos/ubuntu1804/x86_64  Release\n",
            "Hit:7 https://developer.download.nvidia.com/compute/machine-learning/repos/ubuntu1804/x86_64  Release\n",
            "Hit:8 http://archive.ubuntu.com/ubuntu bionic InRelease\n",
            "Get:9 http://archive.ubuntu.com/ubuntu bionic-updates InRelease [88.7 kB]\n",
            "Hit:10 http://ppa.launchpad.net/cran/libgit2/ubuntu bionic InRelease\n",
            "Hit:11 http://ppa.launchpad.net/deadsnakes/ppa/ubuntu bionic InRelease\n",
            "Get:12 http://archive.ubuntu.com/ubuntu bionic-backports InRelease [74.6 kB]\n",
            "Hit:13 http://ppa.launchpad.net/graphics-drivers/ppa/ubuntu bionic InRelease\n",
            "Get:16 http://ppa.launchpad.net/c2d4u.team/c2d4u4.0+/ubuntu bionic/main Sources [1,750 kB]\n",
            "Get:17 http://archive.ubuntu.com/ubuntu bionic-updates/universe amd64 Packages [2,173 kB]\n",
            "Get:18 http://ppa.launchpad.net/c2d4u.team/c2d4u4.0+/ubuntu bionic/main amd64 Packages [895 kB]\n",
            "Get:19 http://archive.ubuntu.com/ubuntu bionic-updates/main amd64 Packages [2,476 kB]\n",
            "Fetched 7,566 kB in 3s (2,178 kB/s)\n",
            "Reading package lists... Done\n"
          ],
          "name": "stdout"
        }
      ]
    },
    {
      "cell_type": "code",
      "metadata": {
        "id": "z4Um3RQvwXhV"
      },
      "source": [
        "#import packages\n",
        "\n",
        "from pyspark.sql import SparkSession\n",
        "from pyspark.sql import Row\n",
        "from pyspark.sql.types import StructType,StructField,StringType, DateType,IntegerType\n",
        "\n",
        "# we are going to use this to time our queries.\n",
        "import time\n",
        "\n",
        "# Create a SparkSession\n",
        "spark = SparkSession.builder.appName(\"SparkSQL\").getOrCreate()"
      ],
      "execution_count": 2,
      "outputs": []
    },
    {
      "cell_type": "markdown",
      "metadata": {
        "id": "2l-NezgWBjoK"
      },
      "source": [
        ""
      ]
    },
    {
      "cell_type": "code",
      "metadata": {
        "id": "XYo7vxXkwqEY"
      },
      "source": [
        "# Read in data from S3 Bucket\n",
        "from pyspark import SparkFiles\n",
        "\n",
        "# Define url names\n",
        "url_titles = \"https://2u-data-curriculum-team.s3.amazonaws.com/dataviz-netflix/titles_basic.csv\"\n",
        "url_ratings = \"https://2u-data-curriculum-team.s3.amazonaws.com/dataviz-netflix/ratings.csv\"\n",
        "url_principals = \"https://2u-data-curriculum-team.s3.amazonaws.com/dataviz-netflix/filteredPrincipals.csv\"\n",
        "url_filter_names = \"https://2u-data-curriculum-team.s3.amazonaws.com/dataviz-netflix/filterNames.csv\"\n",
        "urls = [url_titles, url_ratings, url_principals, url_principals, url_filter_names]\n",
        "\n",
        "#Download all files\n",
        "for url in urls:\n",
        "  spark.sparkContext.addFile(url)\n",
        "\n",
        "df_titles_basic= spark.read.csv(SparkFiles.get(\"titles_basic.csv\"), sep=\",\", header=True)\n",
        "df_ratings = spark.read.csv(SparkFiles.get(\"ratings.csv\"), sep=\",\", header=True)\n",
        "df_principals = spark.read.csv(SparkFiles.get(\"filteredPrincipals.csv\"), sep=\",\", header=True)\n",
        "df_filter_names = spark.read.csv(SparkFiles.get(\"filterNames.csv\"), sep=\",\", header=True)"
      ],
      "execution_count": 3,
      "outputs": []
    },
    {
      "cell_type": "code",
      "metadata": {
        "id": "NMlWeH370ZU5"
      },
      "source": [
        "# Create Temp Views for each table\n",
        "df_titles_basic.createOrReplaceTempView(\"titles\")\n",
        "df_ratings.createOrReplaceTempView(\"ratings\")\n",
        "df_principals = df_principals.dropDuplicates()\n",
        "df_principals.createOrReplaceTempView(\"principals\")\n",
        "df_filter_names.createOrReplaceTempView(\"filterNames\")"
      ],
      "execution_count": 4,
      "outputs": []
    },
    {
      "cell_type": "code",
      "metadata": {
        "colab": {
          "base_uri": "https://localhost:8080/"
        },
        "id": "ytd5StK08hAj",
        "outputId": "fc7f46b8-0908-4002-f239-92993e517a3c"
      },
      "source": [
        "# All producers and the movies they are known for \n",
        "producers = spark.sql(\"select nconst, primaryname, knownfortitles from filterNames where primaryprofession like '%producer%' group by nconst, primaryname, knownfortitles\")\n",
        "producers.show()\n",
        "producers.createOrReplaceTempView('producers')"
      ],
      "execution_count": null,
      "outputs": [
        {
          "output_type": "stream",
          "text": [
            "+---------+--------------------+--------------------+\n",
            "|   nconst|         primaryname|      knownfortitles|\n",
            "+---------+--------------------+--------------------+\n",
            "|nm7745824|         Poppy Begum|tt6400730,tt76105...|\n",
            "|nm7748384|        Woody Daigle|           tt4687782|\n",
            "|nm1447145|Jennifer M. Fah-V...|tt0068120,tt09611...|\n",
            "|nm1443310|      Michael Cotter|tt0805666,tt17915...|\n",
            "|nm1447108|        Dan Mogensen|tt5896744,tt32810...|\n",
            "|nm4943760|         Tom Gretzer|           tt2294661|\n",
            "|nm4947076|      Kerstin Freels|tt0144050,tt59741...|\n",
            "|nm1447447|      Brian Schulman|tt1139628,tt62178...|\n",
            "|nm1449220|       Roman Avianus|tt0440963,tt03721...|\n",
            "|nm0461876|  Michael Knötzinger|tt2278621,tt02597...|\n",
            "|nm7017597|   Pablo G. Schuller|tt10077544,tt7818...|\n",
            "|nm3128982|         Scott Weiss|           tt1475139|\n",
            "|nm7743032|      Courtney Doyle|           tt5095514|\n",
            "|nm4943717|  Courtney Hitchcock|tt2294829,tt10649...|\n",
            "|nm8475440|      Tatjana Anders|tt5755816,tt10530...|\n",
            "|nm8480212|        Jordan Fried|tt6483782,tt12350...|\n",
            "|nm6267219|     Vincenzo Bonomo|tt2580658,tt94828...|\n",
            "|nm6270388|      Walter O'Brien|tt1270797,tt22509...|\n",
            "|nm6272024|         Roger Morin|           tt3386890|\n",
            "|nm4956365|   Mariana Ricciardi|tt9070896,tt19589...|\n",
            "+---------+--------------------+--------------------+\n",
            "only showing top 20 rows\n",
            "\n"
          ],
          "name": "stdout"
        }
      ]
    },
    {
      "cell_type": "markdown",
      "metadata": {
        "id": "rc2XjLAvthTU"
      },
      "source": [
        "\n",
        "\n",
        "\n",
        "**Ensure there are no duplicates**\n",
        "\n",
        "\n"
      ]
    },
    {
      "cell_type": "code",
      "metadata": {
        "colab": {
          "base_uri": "https://localhost:8080/"
        },
        "id": "GrFhTAdXtIAZ",
        "outputId": "e5cf696f-e0dc-47c1-e9ab-9e3a896e30b7"
      },
      "source": [
        "spark.sql('select count(*) from producers').show()"
      ],
      "execution_count": null,
      "outputs": [
        {
          "output_type": "stream",
          "text": [
            "+--------+\n",
            "|count(1)|\n",
            "+--------+\n",
            "|  574401|\n",
            "+--------+\n",
            "\n"
          ],
          "name": "stdout"
        }
      ]
    },
    {
      "cell_type": "code",
      "metadata": {
        "colab": {
          "base_uri": "https://localhost:8080/"
        },
        "id": "aUvGu_OItQVG",
        "outputId": "da4b978e-be3f-4bdc-d778-5a5e77bf837d"
      },
      "source": [
        "spark.sql('select count( distinct nconst) from producers').show()"
      ],
      "execution_count": null,
      "outputs": [
        {
          "output_type": "stream",
          "text": [
            "+----------------------+\n",
            "|count(DISTINCT nconst)|\n",
            "+----------------------+\n",
            "|                574401|\n",
            "+----------------------+\n",
            "\n"
          ],
          "name": "stdout"
        }
      ]
    },
    {
      "cell_type": "markdown",
      "metadata": {
        "id": "L30h_OUtt95N"
      },
      "source": [
        "**Select all producers and the foreign key to every title for which they are known**"
      ]
    },
    {
      "cell_type": "code",
      "metadata": {
        "id": "UgKgu4KfpUsb"
      },
      "source": [
        "producers_final = spark.sql('select producers.nconst, producers.primaryname, titles_final.tconst from producers left join titles_final on producers.knownfortitles like concat(\"%\",titles_final.tconst,\"%\")')"
      ],
      "execution_count": null,
      "outputs": []
    },
    {
      "cell_type": "code",
      "metadata": {
        "colab": {
          "base_uri": "https://localhost:8080/"
        },
        "id": "8nqGaWVHr4JJ",
        "outputId": "672e6cbe-7d4f-4288-a134-9e6c89f84e3a"
      },
      "source": [
        "producers_final.show()\n",
        "producers_final.createOrReplaceTempView('prod_final')"
      ],
      "execution_count": null,
      "outputs": [
        {
          "output_type": "stream",
          "text": [
            "+---------+--------------------+----------+\n",
            "|   nconst|         primaryname|    tconst|\n",
            "+---------+--------------------+----------+\n",
            "|nm7745824|         Poppy Begum| tt6400730|\n",
            "|nm7745824|         Poppy Begum| tt7610596|\n",
            "|nm7745824|         Poppy Begum| tt4116046|\n",
            "|nm7745824|         Poppy Begum|tt10196182|\n",
            "|nm7748384|        Woody Daigle| tt4687782|\n",
            "|nm1447145|Jennifer M. Fah-V...| tt0896084|\n",
            "|nm1447145|Jennifer M. Fah-V...| tt0961102|\n",
            "|nm1447145|Jennifer M. Fah-V...| tt0437758|\n",
            "|nm1443310|      Michael Cotter| tt2177489|\n",
            "|nm1443310|      Michael Cotter| tt1791528|\n",
            "|nm1443310|      Michael Cotter| tt0285403|\n",
            "|nm1443310|      Michael Cotter| tt0805666|\n",
            "|nm1447108|        Dan Mogensen| tt1042453|\n",
            "|nm1447108|        Dan Mogensen| tt2126045|\n",
            "|nm1447108|        Dan Mogensen| tt5896744|\n",
            "|nm1447108|        Dan Mogensen| tt3281048|\n",
            "|nm4943760|         Tom Gretzer| tt2294661|\n",
            "|nm4947076|      Kerstin Freels| tt9262068|\n",
            "|nm4947076|      Kerstin Freels|tt11701822|\n",
            "|nm1447447|      Brian Schulman| tt6217804|\n",
            "+---------+--------------------+----------+\n",
            "only showing top 20 rows\n",
            "\n"
          ],
          "name": "stdout"
        }
      ]
    },
    {
      "cell_type": "code",
      "metadata": {
        "colab": {
          "base_uri": "https://localhost:8080/"
        },
        "id": "sVosIejMZhIE",
        "outputId": "ca983c6b-08de-4cb7-9bd7-5c7aa1bf839f"
      },
      "source": [
        "spark.sql('select * from prod_final where tconst like \"%tt2177489%\"').show()"
      ],
      "execution_count": null,
      "outputs": [
        {
          "output_type": "stream",
          "text": [
            "+---------+--------------------+---------+\n",
            "|   nconst|         primaryname|   tconst|\n",
            "+---------+--------------------+---------+\n",
            "|nm1443310|      Michael Cotter|tt2177489|\n",
            "|nm0073504|       Dan Berendsen|tt2177489|\n",
            "|nm0229936|      Shannon Dobson|tt2177489|\n",
            "|nm2936913|        Allison Rush|tt2177489|\n",
            "|nm2646410|        Mark Charran|tt2177489|\n",
            "|nm2337089|         Beth Fraser|tt2177489|\n",
            "|nm3200587|      Eric Zimmerman|tt2177489|\n",
            "|nm6591647|Tomas Javier Guardia|tt2177489|\n",
            "|nm0930397|     Davida Williams|tt2177489|\n",
            "|nm0774236|     Brian Schnuckel|tt2177489|\n",
            "|nm8271257|          Tony Towns|tt2177489|\n",
            "|nm4219090|     Melanie Manooki|tt2177489|\n",
            "|nm3475387|        Derek Theler|tt2177489|\n",
            "|nm0555684|        Timothy Marx|tt2177489|\n",
            "|nm4054704|  Jose Moreno Brooks|tt2177489|\n",
            "|nm4754902|        Braden Davis|tt2177489|\n",
            "|nm4755426|    Robbie Silverman|tt2177489|\n",
            "|nm4388045|       Angie Liggett|tt2177489|\n",
            "|nm2085006|      Heidi Clements|tt2177489|\n",
            "|nm1052109|        Janae Bakken|tt2177489|\n",
            "+---------+--------------------+---------+\n",
            "only showing top 20 rows\n",
            "\n"
          ],
          "name": "stdout"
        }
      ]
    },
    {
      "cell_type": "code",
      "metadata": {
        "id": "JZtbQsOl2wW0"
      },
      "source": [
        "# Create table of all actors\n",
        "# If birth year is known and death year is known, actor is dead, \n",
        "# if birth year is know and death year is unknown, then actor is assumed to be alive,\n",
        "# otherwis actor status is null\n",
        "\n",
        "actors = spark.sql(\"select nconst , primaryname, birthyear, deathyear, primaryprofession, CASE  WHEN (deathyear IS NOT NULL) THEN 0 WHEN (birthyear IS NOT NULL) and (deathyear IS NULL) THEN 1 ELSE NULL END as status from filterNames where primaryprofession like '%act%' group by nconst , primaryname, birthyear, deathyear, primaryprofession\")\n"
      ],
      "execution_count": 5,
      "outputs": []
    },
    {
      "cell_type": "code",
      "metadata": {
        "colab": {
          "base_uri": "https://localhost:8080/"
        },
        "id": "ndgnF4iZ8T8y",
        "outputId": "8ef23ab6-9eb9-485e-d079-b7874905a2e7"
      },
      "source": [
        "actors.show()"
      ],
      "execution_count": 6,
      "outputs": [
        {
          "output_type": "stream",
          "text": [
            "+----------+--------------------+---------+---------+--------------------+------+\n",
            "|    nconst|         primaryname|birthyear|deathyear|   primaryprofession|status|\n",
            "+----------+--------------------+---------+---------+--------------------+------+\n",
            "| nm0462116|          Jeff Kober|     1953|     null|actor,writer,art_...|     1|\n",
            "| nm0462319|         Herman Koch|     1953|     null|        actor,writer|     1|\n",
            "| nm7741448|      Thomas Ganidel|     null|     null|               actor|  null|\n",
            "| nm7744565|Charles-André Lac...|     null|     null|               actor|  null|\n",
            "| nm7752147|     Gaihlin St-Onge|     null|     null|             actress|  null|\n",
            "| nm1443327|   Robert Desrosiers|     null|     null|actor,sound_depar...|  null|\n",
            "| nm1443573|          Alan Stone|     null|     null|               actor|  null|\n",
            "| nm1445190|         Siu-Yan Cha|     null|     null|             actress|  null|\n",
            "| nm1445529|       Glenn Hanning|     null|     null|               actor|  null|\n",
            "| nm1443396|     Fabian Hinrichs|     1974|     null|               actor|     1|\n",
            "| nm1445313|     Kate Dorrington|     null|     null|             actress|  null|\n",
            "| nm1445861|Christopher Marti...|     1945|     2013|               actor|     0|\n",
            "| nm4943457|        Pierson Fode|     1991|     null|               actor|     1|\n",
            "| nm4946463|         Derek Yates|     null|     null|               actor|  null|\n",
            "| nm7743441|         Jordan Kent|     null|     null|               actor|  null|\n",
            "|nm10586905|    Sheena Catacutan|     null|     null|             actress|  null|\n",
            "|nm10589858|        Crystal Cook|     null|     null|               actor|  null|\n",
            "| nm3126747|         Aayam Mehta|     null|     null|               actor|  null|\n",
            "| nm3130303|            Aj Platt|     null|     null|               actor|  null|\n",
            "| nm3130906|          Little Don|     null|     null|               actor|  null|\n",
            "+----------+--------------------+---------+---------+--------------------+------+\n",
            "only showing top 20 rows\n",
            "\n"
          ],
          "name": "stdout"
        }
      ]
    },
    {
      "cell_type": "code",
      "metadata": {
        "id": "z8G670Gy3_XW"
      },
      "source": [
        "# Create temp View Showing alive and dead actor status \n",
        "actors.createOrReplaceTempView('actors')\n",
        "actors_n_age = spark.sql(\"select *, CASE WHEN status = 0 and birthyear IS NOT NULL THEN deathyear - birthyear WHEN status = 1 THEN 2021 - birthyear ELSE NULL END AS age from actors\")\n"
      ],
      "execution_count": 8,
      "outputs": []
    },
    {
      "cell_type": "code",
      "metadata": {
        "colab": {
          "base_uri": "https://localhost:8080/"
        },
        "id": "8mXM_I0Y21vx",
        "outputId": "78a7e0aa-0138-415a-c82a-71d52a7cc8b9"
      },
      "source": [
        "# Create Temp View from queried data\n",
        "actors_n_age.createOrReplaceTempView('actors_final')\n",
        "\n",
        "# Query first 5 lines to confirm that data is as expected\n",
        "spark.sql('select nconst, primaryname, status, age  from actors_final').show()"
      ],
      "execution_count": 10,
      "outputs": [
        {
          "output_type": "stream",
          "text": [
            "+----------+--------------------+------+----+\n",
            "|    nconst|         primaryname|status| age|\n",
            "+----------+--------------------+------+----+\n",
            "| nm0462116|          Jeff Kober|     1|68.0|\n",
            "| nm0462319|         Herman Koch|     1|68.0|\n",
            "| nm7741448|      Thomas Ganidel|  null|null|\n",
            "| nm7744565|Charles-André Lac...|  null|null|\n",
            "| nm7752147|     Gaihlin St-Onge|  null|null|\n",
            "| nm1443327|   Robert Desrosiers|  null|null|\n",
            "| nm1443573|          Alan Stone|  null|null|\n",
            "| nm1445190|         Siu-Yan Cha|  null|null|\n",
            "| nm1445529|       Glenn Hanning|  null|null|\n",
            "| nm1443396|     Fabian Hinrichs|     1|47.0|\n",
            "| nm1445313|     Kate Dorrington|  null|null|\n",
            "| nm1445861|Christopher Marti...|     0|68.0|\n",
            "| nm4943457|        Pierson Fode|     1|30.0|\n",
            "| nm4946463|         Derek Yates|  null|null|\n",
            "| nm7743441|         Jordan Kent|  null|null|\n",
            "|nm10586905|    Sheena Catacutan|  null|null|\n",
            "|nm10589858|        Crystal Cook|  null|null|\n",
            "| nm3126747|         Aayam Mehta|  null|null|\n",
            "| nm3130303|            Aj Platt|  null|null|\n",
            "| nm3130906|          Little Don|  null|null|\n",
            "+----------+--------------------+------+----+\n",
            "only showing top 20 rows\n",
            "\n"
          ],
          "name": "stdout"
        }
      ]
    },
    {
      "cell_type": "markdown",
      "metadata": {
        "id": "msi4Ncz9ud60"
      },
      "source": [
        "**Ensure there are no duplicates**"
      ]
    },
    {
      "cell_type": "code",
      "metadata": {
        "colab": {
          "base_uri": "https://localhost:8080/"
        },
        "id": "2FDTBl8sF4k0",
        "outputId": "0ec797f9-7478-45f2-e1ab-f8a91222c3f4"
      },
      "source": [
        "spark.sql(\"select count(nconst) from actors_final\").show()"
      ],
      "execution_count": null,
      "outputs": [
        {
          "output_type": "stream",
          "text": [
            "+-------------+\n",
            "|count(nconst)|\n",
            "+-------------+\n",
            "|      2042638|\n",
            "+-------------+\n",
            "\n"
          ],
          "name": "stdout"
        }
      ]
    },
    {
      "cell_type": "code",
      "metadata": {
        "colab": {
          "base_uri": "https://localhost:8080/"
        },
        "id": "ngYUJcifGGaA",
        "outputId": "d8d4d402-4b02-486c-8cee-d4a5298bc5c8"
      },
      "source": [
        "spark.sql(\"select count( distinct nconst) from actors_final\").show()"
      ],
      "execution_count": null,
      "outputs": [
        {
          "output_type": "stream",
          "text": [
            "+----------------------+\n",
            "|count(DISTINCT nconst)|\n",
            "+----------------------+\n",
            "|               2042638|\n",
            "+----------------------+\n",
            "\n"
          ],
          "name": "stdout"
        }
      ]
    },
    {
      "cell_type": "code",
      "metadata": {
        "id": "oI4s-dzh9npk",
        "colab": {
          "base_uri": "https://localhost:8080/"
        },
        "outputId": "ad8d6fec-7063-426e-e665-f3cfb1fe2079"
      },
      "source": [
        "spark.sql('select * from actors_final where birthyear IS NULL and deathyear IS NOT NULL').show()"
      ],
      "execution_count": null,
      "outputs": [
        {
          "output_type": "stream",
          "text": [
            "+---------+--------------------+---------+---------+--------------------+------+----+\n",
            "|   nconst|         primaryname|birthyear|deathyear|   primaryprofession|STATUS| AGE|\n",
            "+---------+--------------------+---------+---------+--------------------+------+----+\n",
            "|nm0492548|        Gerri Lawlor|     null|     2019|actress,soundtrac...|     0|null|\n",
            "|nm0653543|Giant Gustav Clau...|     null|     2019|               actor|     0|null|\n",
            "|nm3365636|     Leonor Coronado|     null|     2013|             actress|     0|null|\n",
            "|nm0102294|       Marilyn Boyle|     null|     2016|             actress|     0|null|\n",
            "|nm1264194|      Andreu Solsona|     null|     2018|               actor|     0|null|\n",
            "|nm1338353|       Shafiq Ansari|     null|     2020|writer,assistant_...|     0|null|\n",
            "|nm0383360|       Colin Higgins|     null|     2012| actor,miscellaneous|     0|null|\n",
            "|nm0222644|      Malcolm Devine|     null|     2016|actor,writer,dire...|     0|null|\n",
            "|nm1258281|          Sunil Rege|     null|     2011|               actor|     0|null|\n",
            "|nm3508826|          Cecep Reza|     null|     2019|               actor|     0|null|\n",
            "|nm2484627|         Billy Yates|     null|     2017|camera_department...|     0|null|\n",
            "|nm1389413|      Emilio Freixas|     null|     2017| actor,miscellaneous|     0|null|\n",
            "|nm4262711|          Luis Fuxan|     null|     2020|               actor|     0|null|\n",
            "|nm4747590|          Mark Lewis|     null|     2014|               actor|     0|null|\n",
            "|nm1287418|Ehteram-Sadat Hab...|     null|     2018|             actress|     0|null|\n",
            "|nm6003343|         Tae Soo Jun|     null|     2018|               actor|     0|null|\n",
            "|nm0213723|       Rafael Decena|     null|     2015|               actor|     0|null|\n",
            "|nm6753464|         Saleh Ahmed|     null|     2019|               actor|     0|null|\n",
            "|nm1020883|       Steve Truglia|     null|     2016|stunts,assistant_...|     0|null|\n",
            "|nm3419515| Michele O'Callaghan|     null|     2011|make_up_departmen...|     0|null|\n",
            "+---------+--------------------+---------+---------+--------------------+------+----+\n",
            "only showing top 20 rows\n",
            "\n"
          ],
          "name": "stdout"
        }
      ]
    },
    {
      "cell_type": "code",
      "metadata": {
        "colab": {
          "base_uri": "https://localhost:8080/"
        },
        "id": "_-BHKpWHXk0N",
        "outputId": "3c2596d7-dcb6-4dc8-b076-ec3b5467a51b"
      },
      "source": [
        "spark.sql('select * from titles limit 5').show()"
      ],
      "execution_count": null,
      "outputs": [
        {
          "output_type": "stream",
          "text": [
            "+---+---------+---------+--------------------+--------------------+-------+---------+-------+--------------+-----------------+\n",
            "|_c0|   tconst|titletype|        primarytitle|       originaltitle|isadult|startyear|endyear|runtimeminutes|           genres|\n",
            "+---+---------+---------+--------------------+--------------------+-------+---------+-------+--------------+-----------------+\n",
            "|  0|tt0439997|    movie|           500 Almas|           500 Almas|      0|     2004|   null|         105.0|      Documentary|\n",
            "|  1|tt0439999|tvSpecial|           80s Mania|           80s Mania|      0|     2001|   null|          50.0|            Music|\n",
            "|  3|tt0440003|    movie|        A-1 Headline|         A1 tou tiao|      0|     2004|   null|          95.0| Mystery,Thriller|\n",
            "|  4|tt0440004|  tvMovie| AD/BC: A Rock Opera| AD/BC: A Rock Opera|      0|     2004|   null|          30.0|   Comedy,Musical|\n",
            "|  5|tt0440008|  tvMovie|Abbamania: We Say...|Abbamania: We Say...|      0|     2004|   null|          50.0|Documentary,Music|\n",
            "+---+---------+---------+--------------------+--------------------+-------+---------+-------+--------------+-----------------+\n",
            "\n"
          ],
          "name": "stdout"
        }
      ]
    },
    {
      "cell_type": "code",
      "metadata": {
        "colab": {
          "base_uri": "https://localhost:8080/"
        },
        "id": "Ee9W5d7xY-ii",
        "outputId": "9543ec60-7b10-4573-ed22-995b41c2c4c7"
      },
      "source": [
        "spark.sql('select * from ratings limit 5').show()"
      ],
      "execution_count": null,
      "outputs": [
        {
          "output_type": "stream",
          "text": [
            "+---------+-------------+--------+\n",
            "|   tconst|averagerating|numvotes|\n",
            "+---------+-------------+--------+\n",
            "|tt0214461|          7.4|      74|\n",
            "|tt0214659|          6.0|      21|\n",
            "|tt0214878|          6.1|    1566|\n",
            "|tt0215244|          3.0|       5|\n",
            "|tt0215402|          8.1|       9|\n",
            "+---------+-------------+--------+\n",
            "\n"
          ],
          "name": "stdout"
        }
      ]
    },
    {
      "cell_type": "markdown",
      "metadata": {
        "id": "Xxzl6PYnPK18"
      },
      "source": [
        "Films Table"
      ]
    },
    {
      "cell_type": "code",
      "metadata": {
        "id": "Fb0Gd4DxTz1v"
      },
      "source": [
        ""
      ],
      "execution_count": null,
      "outputs": []
    },
    {
      "cell_type": "code",
      "metadata": {
        "colab": {
          "base_uri": "https://localhost:8080/"
        },
        "id": "C8ods8pQZDGh",
        "outputId": "2de2ab43-0670-4016-d3bd-ce7a684cdf5d"
      },
      "source": [
        "# Left join all movies in the titles table with their corresponding ratings from the ratings data.\n",
        "titles_final = spark.sql('select titles.tconst, titles.originaltitle, ratings.averagerating, titles.titletype, titles.isadult, concat(RIGHT(concat(\"000\",cast(titles.runtimeminutes/60 as int)),3),\":\",RIGHT(concat(\"00\",cast(titles.runtimeminutes%60 as int)),2)) as runtime from titles left join ratings on titles.tconst = ratings.tconst')\n",
        "titles_final.show()"
      ],
      "execution_count": null,
      "outputs": [
        {
          "output_type": "stream",
          "text": [
            "+---------+--------------------+-------------+---------+-------+-------+\n",
            "|   tconst|       originaltitle|averagerating|titletype|isadult|runtime|\n",
            "+---------+--------------------+-------------+---------+-------+-------+\n",
            "|tt0439997|           500 Almas|          7.2|    movie|      0| 001:45|\n",
            "|tt0439999|           80s Mania|         null|tvSpecial|      0| 000:50|\n",
            "|tt0440003|         A1 tou tiao|          5.9|    movie|      0| 001:35|\n",
            "|tt0440004| AD/BC: A Rock Opera|          7.4|  tvMovie|      0| 000:30|\n",
            "|tt0440008|Abbamania: We Say...|         null|  tvMovie|      0| 000:50|\n",
            "|tt0440016|       Ah ma yau nan|          5.5|    movie|      0| 001:33|\n",
            "|tt0440022|        Al atardecer|         null|  tvMovie|      0| 001:06|\n",
            "|tt0440035|      L'amour en pen|         null|  tvMovie|      0| 000:52|\n",
            "|tt0440067|      Bau lit do see|          5.4|    movie|      0| 001:39|\n",
            "|tt0440078|  The Band Aid Story|          8.1|  tvMovie|      0| 001:35|\n",
            "|tt0440084|A Beachcombers Ch...|          7.0|  tvMovie|      0| 002:00|\n",
            "|tt0440149|Blink 182: Punk P...|          4.1|    video|      0| 001:01|\n",
            "|tt0440154|Boogie special: 5...|          1.0|  tvMovie|      0| 000:26|\n",
            "|tt0440155|Boogie special: M...|          7.7|  tvMovie|      0| 000:28|\n",
            "|tt0440157|The British Comed...|          6.2|tvSpecial|      0| 002:05|\n",
            "|tt0440158|      Broken Bridges|          7.9|    movie|      0| 001:36|\n",
            "|tt0440166|      Bump and Grind|         null|  tvMovie|      0| 000:46|\n",
            "|tt0440167|   Burgers/Reizigers|          6.3|  tvMovie|      0| 001:00|\n",
            "|tt0440174|CD Hoy: Portraits...|         null|    movie|      0| 000:48|\n",
            "|tt0440175|          Cabra-Cega|          6.3|    movie|      0| 001:47|\n",
            "+---------+--------------------+-------------+---------+-------+-------+\n",
            "only showing top 20 rows\n",
            "\n"
          ],
          "name": "stdout"
        }
      ]
    },
    {
      "cell_type": "markdown",
      "metadata": {
        "id": "AfDKMmWl4dH_"
      },
      "source": [
        "**Ensure there are no duplicates.**"
      ]
    },
    {
      "cell_type": "code",
      "metadata": {
        "colab": {
          "base_uri": "https://localhost:8080/"
        },
        "id": "vpYFEj2Qmgbq",
        "outputId": "aa3f12fe-1469-41ce-95b8-802b63b3b0a8"
      },
      "source": [
        "titles_final.createOrReplaceTempView('titles_final')\n",
        "spark.sql('select count(*) from titles_final limit 5').show()"
      ],
      "execution_count": null,
      "outputs": [
        {
          "output_type": "stream",
          "text": [
            "+--------+\n",
            "|count(1)|\n",
            "+--------+\n",
            "|  649067|\n",
            "+--------+\n",
            "\n"
          ],
          "name": "stdout"
        }
      ]
    },
    {
      "cell_type": "code",
      "metadata": {
        "colab": {
          "base_uri": "https://localhost:8080/"
        },
        "id": "dYwsxa1ymn0n",
        "outputId": "7e3e78e2-cd2f-4ad0-8354-abf23a17d516"
      },
      "source": [
        "spark.sql('select count(distinct tconst) from titles_final').show()"
      ],
      "execution_count": null,
      "outputs": [
        {
          "output_type": "stream",
          "text": [
            "+----------------------+\n",
            "|count(DISTINCT tconst)|\n",
            "+----------------------+\n",
            "|                649067|\n",
            "+----------------------+\n",
            "\n"
          ],
          "name": "stdout"
        }
      ]
    },
    {
      "cell_type": "code",
      "metadata": {
        "colab": {
          "base_uri": "https://localhost:8080/"
        },
        "id": "3p9ejULKmtjw",
        "outputId": "06b83d8f-bb32-4ce3-adba-0d124bc2789f"
      },
      "source": [
        "spark.sql('select count(distinct tconst) from rated_titles').show()"
      ],
      "execution_count": null,
      "outputs": [
        {
          "output_type": "stream",
          "text": [
            "+----------------------+\n",
            "|count(DISTINCT tconst)|\n",
            "+----------------------+\n",
            "|                649067|\n",
            "+----------------------+\n",
            "\n"
          ],
          "name": "stdout"
        }
      ]
    },
    {
      "cell_type": "code",
      "metadata": {
        "colab": {
          "base_uri": "https://localhost:8080/"
        },
        "id": "Z-w2A0HFZWHD",
        "outputId": "cf1f0bcd-02fe-4048-a675-b0a829931e72"
      },
      "source": [
        "spark.sql('select runtimeminutes, concat(cast(runtimeminutes/60 as int),\":\",cast(runtimeminutes%60 as int)) from titles limit 5').show()\n"
      ],
      "execution_count": null,
      "outputs": [
        {
          "output_type": "stream",
          "text": [
            "+--------------+---------------------------------------------------------------------------------------------------------------------------------------------------------------------------------+\n",
            "|runtimeminutes|concat(CAST(CAST((CAST(runtimeminutes AS DOUBLE) / CAST(60 AS DOUBLE)) AS INT) AS STRING), :, CAST(CAST((CAST(runtimeminutes AS DOUBLE) % CAST(60 AS DOUBLE)) AS INT) AS STRING))|\n",
            "+--------------+---------------------------------------------------------------------------------------------------------------------------------------------------------------------------------+\n",
            "|         105.0|                                                                                                                                                                             1:45|\n",
            "|          50.0|                                                                                                                                                                             0:50|\n",
            "|          95.0|                                                                                                                                                                             1:35|\n",
            "|          30.0|                                                                                                                                                                             0:30|\n",
            "|          50.0|                                                                                                                                                                             0:50|\n",
            "+--------------+---------------------------------------------------------------------------------------------------------------------------------------------------------------------------------+\n",
            "\n"
          ],
          "name": "stdout"
        }
      ]
    },
    {
      "cell_type": "code",
      "metadata": {
        "colab": {
          "base_uri": "https://localhost:8080/"
        },
        "id": "dW21F5vgbgI5",
        "outputId": "cf3683fd-d20b-4125-eddf-e29d9146dcb7"
      },
      "source": [
        "spark.sql('select * from principals limit 5').show()"
      ],
      "execution_count": null,
      "outputs": [
        {
          "output_type": "stream",
          "text": [
            "+---------+--------+---------+--------+----+--------------------+\n",
            "|   tconst|ordering|   nconst|category| job|          characters|\n",
            "+---------+--------+---------+--------+----+--------------------+\n",
            "|tt9779068|       5|nm0489214|director|null|                null|\n",
            "|tt0449029|       1|nm0005516|   actor|null|\"[\"\"Gregory Fletc...|\n",
            "|tt0452786|       1|nm0766100|    self|null|        \"[\"\"Self\"\"]\"|\n",
            "|tt0940890|       2|nm0322977|   actor|null|     \"[\"\"Nebojsa\"\"]\"|\n",
            "|tt5345728|       8|nm7855195|composer|null|                null|\n",
            "+---------+--------+---------+--------+----+--------------------+\n",
            "\n"
          ],
          "name": "stdout"
        }
      ]
    },
    {
      "cell_type": "code",
      "metadata": {
        "id": "NfCxlqVtkSMy"
      },
      "source": [
        "characters = spark.sql('''select characters, tconst, nconst from principals where category in (\"actor\", \"actress\", \"self\") and characters IS NOT NULL''')"
      ],
      "execution_count": null,
      "outputs": []
    },
    {
      "cell_type": "code",
      "metadata": {
        "id": "mwcBeUKuxdDm",
        "colab": {
          "base_uri": "https://localhost:8080/"
        },
        "outputId": "e404611c-2f3f-4620-ce2b-2d79d08efc64"
      },
      "source": [
        "# Display the characters and their corresponding movies and actors\n",
        "characters_final = characters.dropDuplicates()\n",
        "characters_final.show()"
      ],
      "execution_count": null,
      "outputs": [
        {
          "output_type": "stream",
          "text": [
            "+--------------------+----------+----------+\n",
            "|          characters|    tconst|    nconst|\n",
            "+--------------------+----------+----------+\n",
            "| \"[\"\"Pomegranate\"\"]\"| tt1725077| nm4086624|\n",
            "|      \"[\"\"Fraile\"\"]\"| tt0446914| nm0781103|\n",
            "|     \"[\"\"Penalty\"\"]\"| tt8975184| nm3067739|\n",
            "|\"[\"\"Self - Contes...|tt13984052|nm12242252|\n",
            "| \"[\"\"Bimbo Coles\"\"]\"| tt0451016| nm1871139|\n",
            "|        \"[\"\"Self\"\"]\"| tt0443374| nm2092808|\n",
            "|        \"[\"\"Self\"\"]\"|tt12252890| nm1432434|\n",
            "|       \"[\"\"Angel\"\"]\"| tt2034049| nm0000327|\n",
            "|         \"[\"\"Zac\"\"]\"| tt6072502| nm8872970|\n",
            "|   \"[\"\"Lady Gaga\"\"]\"| tt6743882| nm3078932|\n",
            "|\"[\"\"Shalini (Boss...| tt9547758| nm1427076|\n",
            "|  \"[\"\"Candy Kiss\"\"]\"|tt10743654| nm6629894|\n",
            "|\"[\"\"Duke Sagrado\"\"]\"| tt1781844| nm0320282|\n",
            "|\"[\"\"Martin Solvei...|tt10479256| nm1528519|\n",
            "|\"[\"\"Self - Dancer...| tt2048152| nm2612563|\n",
            "|\"[\"\"Robert Braula...| tt6607896| nm8825458|\n",
            "| \"[\"\"Pvt. Cooper\"\"]\"| tt0280609| nm0571727|\n",
            "|   \"[\"\"Young boy\"\"]\"| tt8582012| nm7640138|\n",
            "|        \"[\"\"Self\"\"]\"| tt1797546| nm0776441|\n",
            "|        \"[\"\"Self\"\"]\"|tt11559474| nm1935086|\n",
            "+--------------------+----------+----------+\n",
            "only showing top 20 rows\n",
            "\n"
          ],
          "name": "stdout"
        }
      ]
    },
    {
      "cell_type": "code",
      "metadata": {
        "colab": {
          "base_uri": "https://localhost:8080/"
        },
        "id": "7Lgpt4yJ5vo1",
        "outputId": "a7cbe675-0ae7-46eb-eb89-82749c1111ca"
      },
      "source": [
        "spark.sql('select count(*) from uchar').show()"
      ],
      "execution_count": null,
      "outputs": [
        {
          "output_type": "stream",
          "text": [
            "+--------+\n",
            "|count(1)|\n",
            "+--------+\n",
            "| 2695329|\n",
            "+--------+\n",
            "\n"
          ],
          "name": "stdout"
        }
      ]
    },
    {
      "cell_type": "code",
      "metadata": {
        "colab": {
          "base_uri": "https://localhost:8080/"
        },
        "id": "tSHwr_ee6FN3",
        "outputId": "d2102571-e26d-4870-a7ba-80e17a12aea6"
      },
      "source": [
        "spark.sql('select count(distinct characters) from uchar').show()"
      ],
      "execution_count": null,
      "outputs": [
        {
          "output_type": "stream",
          "text": [
            "+--------------------------+\n",
            "|count(DISTINCT characters)|\n",
            "+--------------------------+\n",
            "|                    688274|\n",
            "+--------------------------+\n",
            "\n"
          ],
          "name": "stdout"
        }
      ]
    },
    {
      "cell_type": "code",
      "metadata": {
        "id": "ap7QRiFK6IP4"
      },
      "source": [
        "characters.createor\n",
        "spark.sql('select * from characters_final')"
      ],
      "execution_count": null,
      "outputs": []
    },
    {
      "cell_type": "code",
      "metadata": {
        "colab": {
          "base_uri": "https://localhost:8080/"
        },
        "id": "Z_ZCTBFFXg1R",
        "outputId": "be851f12-e23d-48bd-ffcb-737808451cca"
      },
      "source": [
        "spark.sql('select * from filterNames limit 5').show()"
      ],
      "execution_count": null,
      "outputs": [
        {
          "output_type": "stream",
          "text": [
            "+---------+---------------+---------+---------+--------------------+--------------------+---------+\n",
            "|   nconst|    primaryname|birthyear|deathyear|   primaryprofession|      knownfortitles| knownFor|\n",
            "+---------+---------------+---------+---------+--------------------+--------------------+---------+\n",
            "|nm0458594|  Roger Kleiber|     null|     null|visual_effects,ed...|tt0405022,tt19579...|tt0497467|\n",
            "|nm0458601|     Mark Kleid|     null|     null|               actor|tt0105041,tt01120...|tt0277615|\n",
            "|nm0458616|   Mark Kleiman|     null|     null|editor,producer,m...|tt0196091,tt01256...|tt0972846|\n",
            "|nm0458617|Michael Kleiman|     1969|     null|camera_department...|tt0913354,tt04311...|tt0431197|\n",
            "|nm0458618|   Naum Kleiman|     1937|     null|director,actor,wr...|tt3066262,tt64875...|tt3066262|\n",
            "+---------+---------------+---------+---------+--------------------+--------------------+---------+\n",
            "\n"
          ],
          "name": "stdout"
        }
      ]
    },
    {
      "cell_type": "code",
      "metadata": {
        "id": "DPoToW4oXldq"
      },
      "source": [
        ""
      ],
      "execution_count": null,
      "outputs": []
    }
  ]
}
