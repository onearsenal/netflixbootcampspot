{
 "cells": [
  {
   "cell_type": "code",
   "execution_count": 27,
   "metadata": {},
   "outputs": [],
   "source": [
    "# Import the 'os' and 'csv' libraries\n",
    "import pandas as pd\n",
    "import os\n",
    "import csv"
   ]
  },
  {
   "cell_type": "code",
   "execution_count": 28,
   "metadata": {},
   "outputs": [],
   "source": [
    "# Set path for importing our CSV file\n",
    "filepath = os.path.join('../','Resources','yahoo_stock.csv')"
   ]
  },
  {
   "cell_type": "code",
   "execution_count": 29,
   "metadata": {},
   "outputs": [
    {
     "name": "stdout",
     "output_type": "stream",
     "text": [
      "{'Date': '3/12/2020', 'High': '2660.949951', 'Low': '2478.860107', 'Open': '2630.860107', 'Close': '2480.639893', 'Volume': '8829380000', 'Adj Close': '2480.639893'}\n",
      "Max Percentage: 5.709927852123531\n"
     ]
    }
   ],
   "source": [
    "# Open a connection to the comma-delimited csv file \n",
    "#yahoo_stock = pd.read_csv(filepath)\n",
    "#yahoo_stock\n",
    "with open(filepath, newline='') as csvfile:\n",
    "    \n",
    "    # Read in the CSV file using csv.DictReader() class\n",
    "    csv_reader = csv.DictReader(csvfile)\n",
    "    # Create a variable to save our print row and greatest daily percent change\n",
    "    printrow = next(csv_reader)\n",
    "    max_pct = abs((float(printrow['Close']) - float(printrow['Open']))/float(printrow['Open'])*100)\n",
    "    \n",
    "    # Iterate through each row\n",
    "    for row in csv_reader:\n",
    "        #print(row)\n",
    "        daily_pct = abs((float(row['Close']) - float(row['Open']))/float(row['Open'])*100)\n",
    "        # For each row, calculate the daily percent change\n",
    "        #(`Closing price` - `Opening price` / `Opening Price`) * 100\n",
    "        if daily_pct > max_pct:\n",
    "            max_pct = daily_pct\n",
    "            printrow = row\n",
    "    print(printrow)\n",
    "    print(f\"Max Percentage: {max_pct}\")\n",
    "        # Check if the absolute daily percent change is greater than the previous max\n",
    "            \n",
    "            # If true, store new greatest daily percent change and print row\n",
    "            \n",
    "    # Print out the date, stock high, stock low, volume and percent change for the day with the greatest percent change\n"
   ]
  },
  {
   "cell_type": "code",
   "execution_count": null,
   "metadata": {},
   "outputs": [],
   "source": []
  },
  {
   "cell_type": "code",
   "execution_count": null,
   "metadata": {},
   "outputs": [],
   "source": []
  }
 ],
 "metadata": {
  "kernelspec": {
   "display_name": "Python 3",
   "language": "python",
   "name": "python3"
  },
  "language_info": {
   "codemirror_mode": {
    "name": "ipython",
    "version": 3
   },
   "file_extension": ".py",
   "mimetype": "text/x-python",
   "name": "python",
   "nbconvert_exporter": "python",
   "pygments_lexer": "ipython3",
   "version": "3.8.5"
  }
 },
 "nbformat": 4,
 "nbformat_minor": 4
}
